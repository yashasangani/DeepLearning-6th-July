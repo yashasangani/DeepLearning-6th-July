{
  "nbformat": 4,
  "nbformat_minor": 0,
  "metadata": {
    "colab": {
      "provenance": [],
      "authorship_tag": "ABX9TyOjwh6077YulpRRGplx2a2P",
      "include_colab_link": true
    },
    "kernelspec": {
      "name": "python3",
      "display_name": "Python 3"
    },
    "language_info": {
      "name": "python"
    }
  },
  "cells": [
    {
      "cell_type": "markdown",
      "metadata": {
        "id": "view-in-github",
        "colab_type": "text"
      },
      "source": [
        "<a href=\"https://colab.research.google.com/github/yashasangani/DeepLearning-6th-July/blob/main/Forward_propagation_without_hidden_layer.ipynb\" target=\"_parent\"><img src=\"https://colab.research.google.com/assets/colab-badge.svg\" alt=\"Open In Colab\"/></a>"
      ]
    },
    {
      "cell_type": "code",
      "execution_count": 1,
      "metadata": {
        "id": "BJ_5Ca2qvPNz"
      },
      "outputs": [],
      "source": [
        "import numpy as np"
      ]
    },
    {
      "cell_type": "code",
      "source": [
        "x = np.array([[0,0],[0,1],[1,0],[1,1]])\n",
        "y = np.array([[0,0,0,1]]).T"
      ],
      "metadata": {
        "id": "UxxxqzZmvcrL"
      },
      "execution_count": 5,
      "outputs": []
    },
    {
      "cell_type": "code",
      "source": [
        "x.shape, y.shape"
      ],
      "metadata": {
        "colab": {
          "base_uri": "https://localhost:8080/"
        },
        "id": "V50cdInTvrmV",
        "outputId": "7c385207-2657-4d8f-839c-7ae27f70d51a"
      },
      "execution_count": 6,
      "outputs": [
        {
          "output_type": "execute_result",
          "data": {
            "text/plain": [
              "((4, 2), (4, 1))"
            ]
          },
          "metadata": {},
          "execution_count": 6
        }
      ]
    },
    {
      "cell_type": "code",
      "source": [
        "def sig(z):\n",
        "  return 1/(1+np.exp(-z))"
      ],
      "metadata": {
        "id": "FTEWA12Jv2CH"
      },
      "execution_count": 7,
      "outputs": []
    },
    {
      "cell_type": "code",
      "source": [
        "weights = 2* np.random.random((2,1))  -1\n",
        "bias = 2 * np.random.random(1) -1"
      ],
      "metadata": {
        "id": "rxlb_jZuwfP9"
      },
      "execution_count": 13,
      "outputs": []
    },
    {
      "cell_type": "code",
      "source": [
        "weights,bias"
      ],
      "metadata": {
        "colab": {
          "base_uri": "https://localhost:8080/"
        },
        "id": "GWgHLlPlwrXr",
        "outputId": "3c379399-3232-4893-bdd9-7de0fe7da804"
      },
      "execution_count": 14,
      "outputs": [
        {
          "output_type": "execute_result",
          "data": {
            "text/plain": [
              "(array([[-0.27359983],\n",
              "        [-0.91494049]]),\n",
              " array([0.2080523]))"
            ]
          },
          "metadata": {},
          "execution_count": 14
        }
      ]
    },
    {
      "cell_type": "code",
      "source": [
        "output0 = x\n",
        "output = sig(np.dot(output0,weights) + bias)\n",
        "output"
      ],
      "metadata": {
        "colab": {
          "base_uri": "https://localhost:8080/"
        },
        "id": "enGr3yEjwswn",
        "outputId": "bb33c363-5dca-4584-fe94-0245ac70ede4"
      },
      "execution_count": 15,
      "outputs": [
        {
          "output_type": "execute_result",
          "data": {
            "text/plain": [
              "array([[0.55182626],\n",
              "       [0.3302868 ],\n",
              "       [0.48361898],\n",
              "       [0.27279496]])"
            ]
          },
          "metadata": {},
          "execution_count": 15
        }
      ]
    },
    {
      "cell_type": "code",
      "source": [],
      "metadata": {
        "id": "t14IC73Xxt10"
      },
      "execution_count": null,
      "outputs": []
    }
  ]
}