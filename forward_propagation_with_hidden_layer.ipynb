{
  "nbformat": 4,
  "nbformat_minor": 0,
  "metadata": {
    "colab": {
      "provenance": [],
      "authorship_tag": "ABX9TyPIO3AzyQr+RBRg1MgEHAZ6",
      "include_colab_link": true
    },
    "kernelspec": {
      "name": "python3",
      "display_name": "Python 3"
    },
    "language_info": {
      "name": "python"
    }
  },
  "cells": [
    {
      "cell_type": "markdown",
      "metadata": {
        "id": "view-in-github",
        "colab_type": "text"
      },
      "source": [
        "<a href=\"https://colab.research.google.com/github/yashasangani/DeepLearning-6th-July/blob/main/forward_propagation_with_hidden_layer.ipynb\" target=\"_parent\"><img src=\"https://colab.research.google.com/assets/colab-badge.svg\" alt=\"Open In Colab\"/></a>"
      ]
    },
    {
      "cell_type": "code",
      "execution_count": 1,
      "metadata": {
        "id": "hmCAPQvW-UxO"
      },
      "outputs": [],
      "source": [
        "import numpy as np"
      ]
    },
    {
      "cell_type": "code",
      "source": [
        "x = np.array([[0,0],[0,1],[1,0],[1,1]])\n",
        "y = np.array([[0,0,0,1]]).T"
      ],
      "metadata": {
        "id": "VaSALd5X-pB3"
      },
      "execution_count": 2,
      "outputs": []
    },
    {
      "cell_type": "code",
      "source": [
        "x.shape,y.shape"
      ],
      "metadata": {
        "colab": {
          "base_uri": "https://localhost:8080/"
        },
        "id": "oYpJCrLG-z9b",
        "outputId": "25942e24-4884-4c05-bc94-0188764d7d58"
      },
      "execution_count": 3,
      "outputs": [
        {
          "output_type": "execute_result",
          "data": {
            "text/plain": [
              "((4, 2), (4, 1))"
            ]
          },
          "metadata": {},
          "execution_count": 3
        }
      ]
    },
    {
      "cell_type": "code",
      "source": [
        "def sig(z):\n",
        "  return 1/(1+np.exp(-z))"
      ],
      "metadata": {
        "id": "TXbOKjc8-2j7"
      },
      "execution_count": 4,
      "outputs": []
    },
    {
      "cell_type": "code",
      "source": [
        "wh = 2*np.random.random((2,2)) - 1\n",
        "bh = 2*np.random.random((1,2)) - 1\n",
        "wo = 2*np.random.random((2,1)) - 1\n",
        "bo = 2*np.random.random((1,1)) - 1"
      ],
      "metadata": {
        "id": "Iir_6Z-Q-9yI"
      },
      "execution_count": 12,
      "outputs": []
    },
    {
      "cell_type": "code",
      "source": [
        "wh,bh,wo,bo"
      ],
      "metadata": {
        "colab": {
          "base_uri": "https://localhost:8080/"
        },
        "id": "W7mYa5VM_IGL",
        "outputId": "d7fe74ac-f012-44ae-a539-13fabd1ee7bd"
      },
      "execution_count": 13,
      "outputs": [
        {
          "output_type": "execute_result",
          "data": {
            "text/plain": [
              "(array([[-0.30301223,  0.97302322],\n",
              "        [-0.50207225,  0.25332801]]),\n",
              " array([[ 0.46230922, -0.48846544]]),\n",
              " array([[0.18249777],\n",
              "        [0.16689155]]),\n",
              " array([[-0.12060418]]))"
            ]
          },
          "metadata": {},
          "execution_count": 13
        }
      ]
    },
    {
      "cell_type": "code",
      "source": [
        "output0= x\n",
        "outputhidden = sig(np.dot(output0 , wh) + bh)\n",
        "outputhidden"
      ],
      "metadata": {
        "colab": {
          "base_uri": "https://localhost:8080/"
        },
        "id": "C_75MzGA_KN-",
        "outputId": "0ef23293-ae0a-452f-e1b3-bfd313ff05da"
      },
      "execution_count": 14,
      "outputs": [
        {
          "output_type": "execute_result",
          "data": {
            "text/plain": [
              "array([[0.61356184, 0.38025514],\n",
              "       [0.49006055, 0.441485  ],\n",
              "       [0.53974025, 0.61882355],\n",
              "       [0.41513549, 0.67653336]])"
            ]
          },
          "metadata": {},
          "execution_count": 14
        }
      ]
    },
    {
      "cell_type": "code",
      "source": [
        "output = sig(np.dot(outputhidden,wo) + bo)\n",
        "output"
      ],
      "metadata": {
        "colab": {
          "base_uri": "https://localhost:8080/"
        },
        "id": "0e7Gz1Um_qLp",
        "outputId": "c256e502-3002-4f58-905f-e44895b03479"
      },
      "execution_count": 15,
      "outputs": [
        {
          "output_type": "execute_result",
          "data": {
            "text/plain": [
              "array([[0.51370428],\n",
              "       [0.51062612],\n",
              "       [0.52028227],\n",
              "       [0.51700964]])"
            ]
          },
          "metadata": {},
          "execution_count": 15
        }
      ]
    },
    {
      "cell_type": "code",
      "source": [],
      "metadata": {
        "id": "KV9REIc5B79I"
      },
      "execution_count": null,
      "outputs": []
    }
  ]
}